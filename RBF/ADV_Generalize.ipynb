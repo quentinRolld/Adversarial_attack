{
 "cells": [
  {
   "cell_type": "code",
   "execution_count": 1,
   "metadata": {},
   "outputs": [],
   "source": [
    "from utils import extract_from_mnist, visualize_data\n",
    "from train import prep_data,create_model,training_loop,eval_test,eval_train, plot_losses,visualize_weights_and_signs\n",
    "from adv_attack import adv_attack,create_adv_test\n",
    "from RBF_architecture import ShallowRBF, RbfNet2\n",
    "import matplotlib.pyplot as plt\n",
    "import numpy as np\n",
    "import pandas as pd\n",
    "from sklearn.datasets import fetch_openml\n",
    "from ADV_generalize import adv_attack, test_Maxout, training_loop_Maxout, eval_test_Maxout\n",
    "\n",
    "import torch\n",
    "import torch.nn as nn\n",
    "import torch.optim as optim\n",
    "import torch.nn.functional as F\n",
    "from torch.utils.data import DataLoader, TensorDataset\n",
    "from torch.autograd import Variable\n",
    "\n",
    "from sklearn.model_selection import train_test_split\n",
    "from matplotlib.colors import LinearSegmentedColormap\n",
    "from sklearn.preprocessing import LabelEncoder\n",
    "from maxout import CustomMaxout"
   ]
  },
  {
   "cell_type": "code",
   "execution_count": 2,
   "metadata": {},
   "outputs": [
    {
     "name": "stderr",
     "output_type": "stream",
     "text": [
      "/Library/Frameworks/Python.framework/Versions/3.11/lib/python3.11/site-packages/sklearn/datasets/_openml.py:1022: FutureWarning: The default value of `parser` will change from `'liac-arff'` to `'auto'` in 1.4. You can set `parser='auto'` to silence this warning. Therefore, an `ImportError` will be raised from 1.4 if the dataset is dense and pandas is not installed. Note that the pandas parser may return different data types. See the Notes Section in fetch_openml's API doc for details.\n",
      "  warn(\n",
      "/var/folders/91/hvhdt2vj68l460f4fv_t0k0h0000gn/T/ipykernel_6443/3691792284.py:8: PerformanceWarning: DataFrame is highly fragmented.  This is usually the result of calling `frame.insert` many times, which has poor performance.  Consider joining all columns at once using pd.concat(axis=1) instead. To get a de-fragmented frame, use `newframe = frame.copy()`\n",
      "  data['target'] = mnist.target\n"
     ]
    },
    {
     "name": "stdout",
     "output_type": "stream",
     "text": [
      "Filtered dataset shape: (20000, 785)\n",
      "Labels: 0        8\n",
      "1        4\n",
      "2        8\n",
      "3        7\n",
      "4        7\n",
      "        ..\n",
      "19995    8\n",
      "19996    3\n",
      "19997    1\n",
      "19998    7\n",
      "19999    6\n",
      "Name: target, Length: 20000, dtype: int64\n"
     ]
    }
   ],
   "source": [
    "# Load the MNIST dataset\n",
    "mnist = fetch_openml('mnist_784')\n",
    "\n",
    "# Convert labels to integers\n",
    "mnist.target = mnist.target.astype(int)\n",
    "\n",
    "data = pd.DataFrame(data=mnist.data, columns=mnist.feature_names)\n",
    "data['target'] = mnist.target\n",
    "\n",
    "data = data.sample(n=20000, random_state=42)\n",
    "\n",
    "# Reset the index of the filtered dataset\n",
    "data = data.reset_index(drop=True)\n",
    "\n",
    "# Print the shape of the filtered dataset\n",
    "print(\"Filtered dataset shape:\", data.shape)\n",
    "print(\"Labels:\", data['target'])"
   ]
  },
  {
   "cell_type": "code",
   "execution_count": 3,
   "metadata": {},
   "outputs": [
    {
     "name": "stdout",
     "output_type": "stream",
     "text": [
      "Unique classes in target labels: 10\n"
     ]
    }
   ],
   "source": [
    "# Assuming y is your target labels\n",
    "y = data['target'].values\n",
    "\n",
    "# Normalize the data\n",
    "data_normalized = data.iloc[:, :-1].values / 255.0\n",
    "\n",
    "# Convert data to PyTorch tensors\n",
    "X_tensor = torch.tensor(data_normalized, dtype=torch.float32)\n",
    "y_tensor = torch.tensor(y, dtype=torch.long)\n",
    "\n",
    "# Split the data into training and testing sets\n",
    "X_train_tensor, X_test_tensor, y_train_tensor, y_test_tensor = train_test_split(X_tensor, y_tensor, test_size=0.2, random_state=42)\n",
    "num_classes = len(set(y))\n",
    "print(\"Unique classes in target labels:\", num_classes)"
   ]
  },
  {
   "cell_type": "markdown",
   "metadata": {},
   "source": [
    "## On vire les classes autres que 4 pour le set de Test"
   ]
  },
  {
   "cell_type": "code",
   "execution_count": 4,
   "metadata": {},
   "outputs": [
    {
     "name": "stdout",
     "output_type": "stream",
     "text": [
      "torch.Size([363, 784])\n",
      "torch.Size([363])\n",
      "torch.Size([784])\n",
      "torch.Size([1])\n"
     ]
    },
    {
     "name": "stderr",
     "output_type": "stream",
     "text": [
      "/var/folders/91/hvhdt2vj68l460f4fv_t0k0h0000gn/T/ipykernel_6443/1216468907.py:3: UserWarning: To copy construct from a tensor, it is recommended to use sourceTensor.clone().detach() or sourceTensor.clone().detach().requires_grad_(True), rather than torch.tensor(sourceTensor).\n",
      "  X_test_tensor = torch.tensor(np.delete(X_test_tensor, List_arg_not4, axis=0), dtype=torch.float32)\n",
      "/var/folders/91/hvhdt2vj68l460f4fv_t0k0h0000gn/T/ipykernel_6443/1216468907.py:4: UserWarning: To copy construct from a tensor, it is recommended to use sourceTensor.clone().detach() or sourceTensor.clone().detach().requires_grad_(True), rather than torch.tensor(sourceTensor).\n",
      "  y_test_tensor = torch.tensor(np.delete(y_test_tensor, List_arg_not4), dtype=torch.long)\n"
     ]
    }
   ],
   "source": [
    "List_arg_not4 = [i for i in range(y_test_tensor.shape[0]) if y_test_tensor[i] != 4]\n",
    "\n",
    "X_test_tensor = torch.tensor(np.delete(X_test_tensor, List_arg_not4, axis=0), dtype=torch.float32)\n",
    "y_test_tensor = torch.tensor(np.delete(y_test_tensor, List_arg_not4), dtype=torch.long)\n",
    "print(X_test_tensor.shape)\n",
    "print(y_test_tensor.shape)\n",
    "anna_X_test_tensor = X_test_tensor[0,:]\n",
    "anna_y_test_tensor = torch.tensor([4], dtype=torch.long)\n",
    "\n",
    "print(anna_X_test_tensor.shape)\n",
    "print(anna_y_test_tensor.shape)"
   ]
  },
  {
   "cell_type": "code",
   "execution_count": 5,
   "metadata": {},
   "outputs": [],
   "source": [
    "# Hyperparameters\n",
    "\n",
    "batch_size = 128\n",
    "n_epochs = 100\n",
    "lr = 0.001"
   ]
  },
  {
   "cell_type": "code",
   "execution_count": 6,
   "metadata": {},
   "outputs": [],
   "source": [
    "\n",
    "# Create TensorDatasets for training and testing sets\n",
    "training_dataset = TensorDataset(X_train_tensor, y_train_tensor)\n",
    "test_dataset = TensorDataset(X_test_tensor, y_test_tensor)\n",
    "\n",
    "# Create DataLoaders for training and testing sets\n",
    "training_dataloader = DataLoader(training_dataset, batch_size=batch_size, shuffle=True)\n",
    "test_dataloader = DataLoader(test_dataset, batch_size=batch_size, shuffle=True)\n"
   ]
  },
  {
   "cell_type": "code",
   "execution_count": 7,
   "metadata": {},
   "outputs": [],
   "source": [
    "# Define the Maxout layer\n",
    "# Maxout Layer\n",
    "class MaxoutLayer(nn.Module):\n",
    "    def __init__(self, input_size, output_size, num_pieces=2):\n",
    "        super(MaxoutLayer, self).__init__()\n",
    "        self.fc = nn.Linear(input_size, output_size * num_pieces)\n",
    "        self.num_pieces = num_pieces\n",
    "\n",
    "    def forward(self, x):\n",
    "        x = self.fc(x)\n",
    "        x, _ = x.view(x.size(0), -1, self.num_pieces).max(-1)\n",
    "        return x\n",
    "\n",
    "# Maxout Network with Softmax Layer\n",
    "class MaxoutNetworkWithSoftmax(nn.Module):\n",
    "    def __init__(self, input_size, num_classes):\n",
    "        super(MaxoutNetworkWithSoftmax, self).__init__()\n",
    "        self.layer1 = MaxoutLayer(input_size, 512)\n",
    "        self.layer2 = MaxoutLayer(512, 256)\n",
    "        self.softmax = nn.Softmax(dim=1)\n",
    "        self.output_layer = nn.Linear(256, num_classes)\n",
    "\n",
    "    def forward(self, x):\n",
    "        x = x.view(x.size(0), -1)\n",
    "        x = torch.relu(self.layer1(x))\n",
    "        x_arg = torch.relu(self.layer2(x))\n",
    "        x = self.softmax(x_arg)\n",
    "        logits = self.output_layer(x)\n",
    "        return logits, x_arg"
   ]
  },
  {
   "cell_type": "code",
   "execution_count": 8,
   "metadata": {},
   "outputs": [],
   "source": [
    "# Fonction de perte standard\n",
    "def loss_fn(model, x, y):\n",
    "    output = model(x)\n",
    "    return F.cross_entropy(output, y)\n",
    "\n",
    "# Fonction de perte adversariale\n",
    "def adversarial_loss_fn(model, x, y, epsilon, alpha):\n",
    "    # Calcul de la perte standard\n",
    "    standard_loss = loss_fn(model, x, y)\n",
    "    \n",
    "    # Génération de l'exemple adverse\n",
    "    x_adv = x + epsilon * torch.sign(torch.autograd.grad(standard_loss, x, create_graph=True)[0])\n",
    "    \n",
    "    # Calcul de la perte sur l'exemple adverse\n",
    "    adversarial_loss = loss_fn(model, x_adv, y)\n",
    "    \n",
    "    # Combinaison des deux pertes\n",
    "    return alpha * standard_loss + (1 - alpha) * adversarial_loss"
   ]
  },
  {
   "cell_type": "code",
   "execution_count": 9,
   "metadata": {},
   "outputs": [
    {
     "name": "stdout",
     "output_type": "stream",
     "text": [
      "Epoch [1/100], Loss: 2.0745\n",
      "Epoch [2/100], Loss: 1.8760\n",
      "Epoch [3/100], Loss: 1.7241\n",
      "Epoch [4/100], Loss: 1.5407\n",
      "Epoch [5/100], Loss: 1.3570\n",
      "Epoch [6/100], Loss: 1.2210\n",
      "Epoch [7/100], Loss: 1.1160\n",
      "Epoch [8/100], Loss: 1.0453\n",
      "Epoch [9/100], Loss: 0.9371\n",
      "Epoch [10/100], Loss: 0.8370\n",
      "Epoch [11/100], Loss: 0.7443\n",
      "Epoch [12/100], Loss: 0.6675\n",
      "Epoch [13/100], Loss: 0.6866\n",
      "Epoch [14/100], Loss: 0.5871\n",
      "Epoch [15/100], Loss: 0.6011\n",
      "Epoch [16/100], Loss: 0.5796\n",
      "Epoch [17/100], Loss: 0.5407\n",
      "Epoch [18/100], Loss: 0.4831\n",
      "Epoch [19/100], Loss: 0.4728\n",
      "Epoch [20/100], Loss: 0.4687\n",
      "Epoch [21/100], Loss: 0.3971\n",
      "Epoch [22/100], Loss: 0.4467\n",
      "Epoch [23/100], Loss: 0.3899\n",
      "Epoch [24/100], Loss: 0.3905\n",
      "Epoch [25/100], Loss: 0.3711\n",
      "Epoch [26/100], Loss: 0.2933\n",
      "Epoch [27/100], Loss: 0.3928\n",
      "Epoch [28/100], Loss: 0.3378\n",
      "Epoch [29/100], Loss: 0.3312\n",
      "Epoch [30/100], Loss: 0.3690\n",
      "Epoch [31/100], Loss: 0.3555\n",
      "Epoch [32/100], Loss: 0.3735\n",
      "Epoch [33/100], Loss: 0.4334\n",
      "Epoch [34/100], Loss: 0.3888\n",
      "Epoch [35/100], Loss: 0.3119\n",
      "Epoch [36/100], Loss: 0.3018\n",
      "Epoch [37/100], Loss: 0.3312\n",
      "Epoch [38/100], Loss: 0.3048\n",
      "Epoch [39/100], Loss: 0.2676\n",
      "Epoch [40/100], Loss: 0.3439\n",
      "Epoch [41/100], Loss: 0.3948\n",
      "Epoch [42/100], Loss: 0.2354\n",
      "Epoch [43/100], Loss: 0.3280\n",
      "Epoch [44/100], Loss: 0.3897\n",
      "Epoch [45/100], Loss: 0.3744\n",
      "Epoch [46/100], Loss: 0.3064\n",
      "Epoch [47/100], Loss: 0.3533\n",
      "Epoch [48/100], Loss: 0.3461\n",
      "Epoch [49/100], Loss: 0.2385\n",
      "Epoch [50/100], Loss: 0.3014\n",
      "Epoch [51/100], Loss: 0.3355\n",
      "Epoch [52/100], Loss: 0.2945\n",
      "Epoch [53/100], Loss: 0.3332\n",
      "Epoch [54/100], Loss: 0.2758\n",
      "Epoch [55/100], Loss: 0.2846\n",
      "Epoch [56/100], Loss: 0.3153\n",
      "Epoch [57/100], Loss: 0.3057\n",
      "Epoch [58/100], Loss: 0.3498\n",
      "Epoch [59/100], Loss: 0.2939\n",
      "Epoch [60/100], Loss: 0.2986\n",
      "Epoch [61/100], Loss: 0.2261\n",
      "Epoch [62/100], Loss: 0.2670\n",
      "Epoch [63/100], Loss: 0.2026\n",
      "Epoch [64/100], Loss: 0.2204\n",
      "Epoch [65/100], Loss: 0.1818\n",
      "Epoch [66/100], Loss: 0.1970\n",
      "Epoch [67/100], Loss: 0.1323\n",
      "Epoch [68/100], Loss: 0.1654\n",
      "Epoch [69/100], Loss: 0.1727\n",
      "Epoch [70/100], Loss: 0.2023\n",
      "Epoch [71/100], Loss: 0.1394\n",
      "Epoch [72/100], Loss: 0.2520\n",
      "Epoch [73/100], Loss: 0.1924\n",
      "Epoch [74/100], Loss: 0.1597\n",
      "Epoch [75/100], Loss: 0.1507\n",
      "Epoch [76/100], Loss: 0.1707\n",
      "Epoch [77/100], Loss: 0.1436\n",
      "Epoch [78/100], Loss: 0.1660\n",
      "Epoch [79/100], Loss: 0.1262\n",
      "Epoch [80/100], Loss: 0.1562\n",
      "Epoch [81/100], Loss: 0.2184\n",
      "Epoch [82/100], Loss: 0.2392\n",
      "Epoch [83/100], Loss: 0.2308\n",
      "Epoch [84/100], Loss: 0.1155\n",
      "Epoch [85/100], Loss: 0.1895\n",
      "Epoch [86/100], Loss: 0.1553\n",
      "Epoch [87/100], Loss: 0.1584\n",
      "Epoch [88/100], Loss: 0.2162\n",
      "Epoch [89/100], Loss: 0.2035\n",
      "Epoch [90/100], Loss: 0.1032\n",
      "Epoch [91/100], Loss: 0.1813\n",
      "Epoch [92/100], Loss: 0.1508\n",
      "Epoch [93/100], Loss: 0.2215\n",
      "Epoch [94/100], Loss: 0.1422\n",
      "Epoch [95/100], Loss: 0.2457\n",
      "Epoch [96/100], Loss: 0.1506\n",
      "Epoch [97/100], Loss: 0.2194\n",
      "Epoch [98/100], Loss: 0.1851\n",
      "Epoch [99/100], Loss: 0.1303\n",
      "Epoch [100/100], Loss: 0.2458\n"
     ]
    }
   ],
   "source": [
    "input_size = 784\n",
    "num_classes = 10\n",
    "device = torch.device(\"cpu\")\n",
    "\n",
    "# Define the model\n",
    "model = MaxoutNetworkWithSoftmax(input_size, num_classes)\n",
    "\n",
    "model = model.to(device)\n",
    "\n",
    "optimizer = optim.Adam(model.parameters(), lr=0.001)\n",
    "\n",
    "# Define the loss function\n",
    "criterion = nn.CrossEntropyLoss()\n",
    "\n",
    "training_loss ,model_trained = training_loop_Maxout(optimizer, model, criterion, X_train_tensor, y_train_tensor,num_epochs=n_epochs,batch_size=batch_size)"
   ]
  },
  {
   "cell_type": "code",
   "execution_count": 10,
   "metadata": {},
   "outputs": [
    {
     "data": {
      "image/png": "[encoded data removed]",
      "text/plain": [
       "<Figure size 640x480 with 1 Axes>"
      ]
     },
     "metadata": {},
     "output_type": "display_data"
    }
   ],
   "source": [
    "plot_losses(training_loss)"
   ]
  },
  {
   "cell_type": "code",
   "execution_count": 11,
   "metadata": {},
   "outputs": [
    {
     "name": "stdout",
     "output_type": "stream",
     "text": [
      "Accuracy: 95.32%\n",
      "Mean Confidence for All Examples: 0.9762\n",
      "Mean Confidence for Incorrect Predictions: 0.6164\n"
     ]
    }
   ],
   "source": [
    "eval_test_Maxout(X_test_tensor,y_test_tensor,model)"
   ]
  },
  {
   "cell_type": "code",
   "execution_count": 8,
   "metadata": {},
   "outputs": [
    {
     "name": "stdout",
     "output_type": "stream",
     "text": [
      "arg softmax : tensor([[0.3642, 0.0690, 0.5808,  ..., 0.1770, 0.4064, 0.0437],\n",
      "        [0.6532, 0.3047, 0.5775,  ..., 0.0611, 0.4636, 0.1881],\n",
      "        [0.7248, 0.2160, 0.2927,  ..., 0.2841, 0.4027, 0.1011],\n",
      "        ...,\n",
      "        [0.9807, 0.2202, 0.3917,  ..., 0.0000, 0.0926, 0.1970],\n",
      "        [0.6428, 0.0770, 0.6674,  ..., 0.1017, 0.2933, 0.1662],\n",
      "        [0.6449, 0.3589, 0.5410,  ..., 0.1166, 0.3023, 0.0275]],\n",
      "       grad_fn=<ReluBackward0>)\n",
      "output : torch.Size([128, 10])\n",
      "arg softmax : tensor([[0.7186, 0.2472, 0.3670,  ..., 0.0000, 0.1775, 0.1679],\n",
      "        [0.2830, 0.1118, 0.7198,  ..., 0.1079, 0.4445, 0.0000],\n",
      "        [0.8069, 0.3861, 0.5025,  ..., 0.0000, 0.2965, 0.0649],\n",
      "        ...,\n",
      "        [0.5990, 0.2871, 0.4459,  ..., 0.0869, 0.3118, 0.0735],\n",
      "        [0.4868, 0.2580, 0.6935,  ..., 0.0723, 0.2818, 0.0157],\n",
      "        [0.3976, 0.2417, 0.5235,  ..., 0.0000, 0.4083, 0.2321]],\n",
      "       grad_fn=<ReluBackward0>)\n",
      "output : torch.Size([128, 10])\n",
      "arg softmax : tensor([[0.6868, 0.4085, 0.3951,  ..., 0.0497, 0.2536, 0.2682],\n",
      "        [0.6508, 0.0530, 0.5842,  ..., 0.2124, 0.1391, 0.1786],\n",
      "        [0.8055, 0.2715, 0.5920,  ..., 0.2112, 0.2827, 0.2662],\n",
      "        ...,\n",
      "        [0.3295, 0.2993, 0.5795,  ..., 0.0928, 0.4100, 0.0868],\n",
      "        [0.4451, 0.4281, 0.7194,  ..., 0.2297, 0.5968, 0.1427],\n",
      "        [0.6183, 0.3337, 0.3187,  ..., 0.0516, 0.1830, 0.2483]],\n",
      "       grad_fn=<ReluBackward0>)\n",
      "output : torch.Size([107, 10])\n",
      "Epsilon: -15\tTest Accuracy = 0 / 3 = 0.0\n",
      "arg softmax : tensor([[0.5032, 0.3048, 0.5223,  ..., 0.3893, 0.3826, 0.0000],\n",
      "        [0.7789, 0.4808, 0.4348,  ..., 0.0240, 0.2493, 0.3000],\n",
      "        [0.5975, 0.1569, 0.7042,  ..., 0.2025, 0.4154, 0.0336],\n",
      "        ...,\n",
      "        [0.5630, 0.2923, 0.4153,  ..., 0.0046, 0.5074, 0.0808],\n",
      "        [0.4645, 0.4714, 0.6323,  ..., 0.0664, 0.3399, 0.0000],\n",
      "        [0.4094, 0.1005, 0.6925,  ..., 0.0713, 0.4108, 0.0038]],\n",
      "       grad_fn=<ReluBackward0>)\n",
      "output : torch.Size([128, 10])\n",
      "arg softmax : tensor([[0.5129, 0.3512, 0.5931,  ..., 0.0000, 0.2566, 0.3006],\n",
      "        [0.4835, 0.3496, 0.4483,  ..., 0.2211, 0.3636, 0.0313],\n",
      "        [0.5359, 0.3826, 0.7097,  ..., 0.2033, 0.2686, 0.0213],\n",
      "        ...,\n",
      "        [0.7603, 0.1431, 0.5647,  ..., 0.0398, 0.3301, 0.1048],\n",
      "        [0.4824, 0.1002, 0.5737,  ..., 0.0619, 0.2735, 0.1659],\n",
      "        [0.5487, 0.1252, 0.6264,  ..., 0.1428, 0.4345, 0.0091]],\n",
      "       grad_fn=<ReluBackward0>)\n",
      "output : torch.Size([128, 10])\n",
      "arg softmax : tensor([[0.8239, 0.4398, 0.6748,  ..., 0.2441, 0.4116, 0.2834],\n",
      "        [0.3642, 0.0690, 0.5808,  ..., 0.1770, 0.4064, 0.0437],\n",
      "        [0.4963, 0.3191, 0.3972,  ..., 0.0261, 0.5050, 0.0535],\n",
      "        ...,\n",
      "        [0.6341, 0.2638, 0.7083,  ..., 0.1029, 0.4040, 0.1045],\n",
      "        [0.2124, 0.4122, 0.4342,  ..., 0.1163, 0.3009, 0.0000],\n",
      "        [0.4886, 0.2616, 0.5392,  ..., 0.1133, 0.4010, 0.0265]],\n",
      "       grad_fn=<ReluBackward0>)\n",
      "output : torch.Size([107, 10])\n",
      "Epsilon: -10\tTest Accuracy = 0 / 3 = 0.0\n",
      "arg softmax : tensor([[0.3307, 0.3535, 0.3533,  ..., 0.1992, 0.3520, 0.0625],\n",
      "        [0.6562, 0.2525, 0.4280,  ..., 0.3720, 0.3195, 0.4008],\n",
      "        [0.8433, 0.1273, 0.3902,  ..., 0.0441, 0.2989, 0.3140],\n",
      "        ...,\n",
      "        [0.5153, 0.3231, 0.6757,  ..., 0.2775, 0.5575, 0.0000],\n",
      "        [0.5504, 0.3369, 0.5477,  ..., 0.2194, 0.5077, 0.0000],\n",
      "        [0.7927, 0.0952, 0.5397,  ..., 0.0474, 0.2426, 0.1543]],\n",
      "       grad_fn=<ReluBackward0>)\n",
      "output : torch.Size([128, 10])\n",
      "arg softmax : tensor([[0.6568, 0.4860, 0.6186,  ..., 0.0959, 0.4362, 0.1707],\n",
      "        [0.6754, 0.1799, 0.6575,  ..., 0.3709, 0.4433, 0.0116],\n",
      "        [0.4109, 0.3099, 0.6117,  ..., 0.2199, 0.4568, 0.0665],\n",
      "        ...,\n",
      "        [0.5973, 0.2014, 0.3275,  ..., 0.0000, 0.2488, 0.1930],\n",
      "        [0.4835, 0.3496, 0.4483,  ..., 0.2211, 0.3636, 0.0313],\n",
      "        [0.4645, 0.4714, 0.6323,  ..., 0.0664, 0.3399, 0.0000]],\n",
      "       grad_fn=<ReluBackward0>)\n",
      "output : torch.Size([128, 10])\n",
      "arg softmax : tensor([[0.8915, 0.4596, 0.6287,  ..., 0.1337, 0.2130, 0.1268],\n",
      "        [0.5138, 0.3794, 0.5345,  ..., 0.2143, 0.2677, 0.1454],\n",
      "        [0.4679, 0.4512, 0.4389,  ..., 0.0465, 0.1310, 0.0000],\n",
      "        ...,\n",
      "        [0.7568, 0.3795, 0.7943,  ..., 0.1778, 0.0539, 0.3733],\n",
      "        [0.3667, 0.1855, 0.6068,  ..., 0.1207, 0.3933, 0.1745],\n",
      "        [0.5032, 0.3048, 0.5223,  ..., 0.3893, 0.3826, 0.0000]],\n",
      "       grad_fn=<ReluBackward0>)\n",
      "output : torch.Size([107, 10])\n",
      "Epsilon: -5\tTest Accuracy = 0 / 3 = 0.0\n",
      "arg softmax : tensor([[0.1094, 0.1541, 0.1238,  ..., 0.1057, 0.1576, 0.0779],\n",
      "        [0.1458, 0.2190, 0.0401,  ..., 0.0478, 0.1587, 0.0636],\n",
      "        [0.2070, 0.1331, 0.0429,  ..., 0.0193, 0.2525, 0.1080],\n",
      "        ...,\n",
      "        [0.1247, 0.0877, 0.1298,  ..., 0.0428, 0.2091, 0.0000],\n",
      "        [0.1194, 0.0293, 0.1003,  ..., 0.0350, 0.1110, 0.0530],\n",
      "        [0.1966, 0.1947, 0.0821,  ..., 0.0039, 0.1741, 0.0471]],\n",
      "       grad_fn=<ReluBackward0>)\n",
      "output : torch.Size([128, 10])\n",
      "arg softmax : tensor([[0.1384, 0.1974, 0.2033,  ..., 0.0225, 0.1444, 0.0199],\n",
      "        [0.1768, 0.0713, 0.0509,  ..., 0.0145, 0.2086, 0.0235],\n",
      "        [0.1067, 0.0889, 0.0556,  ..., 0.0376, 0.1412, 0.0430],\n",
      "        ...,\n",
      "        [0.1507, 0.0771, 0.1495,  ..., 0.1059, 0.1770, 0.0621],\n",
      "        [0.1583, 0.0841, 0.0742,  ..., 0.0097, 0.1549, 0.0236],\n",
      "        [0.1277, 0.2266, 0.1893,  ..., 0.0407, 0.1795, 0.0726]],\n",
      "       grad_fn=<ReluBackward0>)\n",
      "output : torch.Size([128, 10])\n",
      "arg softmax : tensor([[0.0213, 0.1359, 0.1518,  ..., 0.0855, 0.1415, 0.0543],\n",
      "        [0.1127, 0.1401, 0.0407,  ..., 0.0452, 0.1720, 0.0952],\n",
      "        [0.1557, 0.1665, 0.0420,  ..., 0.0000, 0.1111, 0.0897],\n",
      "        ...,\n",
      "        [0.1093, 0.1260, 0.0862,  ..., 0.0000, 0.1156, 0.0363],\n",
      "        [0.0943, 0.1048, 0.1109,  ..., 0.0000, 0.0757, 0.0239],\n",
      "        [0.0895, 0.1047, 0.1179,  ..., 0.0576, 0.1851, 0.0339]],\n",
      "       grad_fn=<ReluBackward0>)\n",
      "output : torch.Size([107, 10])\n",
      "Epsilon: 0\tTest Accuracy = 0 / 3 = 0.0\n",
      "arg softmax : tensor([[0.0739, 0.3215, 0.3777,  ..., 0.0000, 0.7014, 0.3400],\n",
      "        [0.1204, 0.3320, 0.1643,  ..., 0.0000, 0.6252, 0.2279],\n",
      "        [0.3564, 0.3195, 0.1709,  ..., 0.0396, 0.6949, 0.3936],\n",
      "        ...,\n",
      "        [0.0000, 0.2602, 0.2599,  ..., 0.1305, 0.6980, 0.4860],\n",
      "        [0.0933, 0.2370, 0.3121,  ..., 0.0000, 0.4545, 0.1563],\n",
      "        [0.0000, 0.4180, 0.2648,  ..., 0.0000, 0.5398, 0.2461]],\n",
      "       grad_fn=<ReluBackward0>)\n",
      "output : torch.Size([128, 10])\n",
      "arg softmax : tensor([[0.0000, 0.3061, 0.3568,  ..., 0.0000, 0.8021, 0.2890],\n",
      "        [0.0000, 0.2404, 0.1665,  ..., 0.0000, 0.9030, 0.4460],\n",
      "        [0.1642, 0.2860, 0.4951,  ..., 0.0000, 0.8678, 0.5877],\n",
      "        ...,\n",
      "        [0.0868, 0.0962, 0.4552,  ..., 0.0000, 0.7052, 0.1478],\n",
      "        [0.1791, 0.1195, 0.2893,  ..., 0.0000, 0.6519, 0.2682],\n",
      "        [0.3597, 0.2471, 0.0620,  ..., 0.0000, 0.6591, 0.2240]],\n",
      "       grad_fn=<ReluBackward0>)\n",
      "output : torch.Size([128, 10])\n",
      "arg softmax : tensor([[0.0555, 0.2817, 0.0642,  ..., 0.0000, 0.5567, 0.2534],\n",
      "        [0.4066, 0.0000, 0.2921,  ..., 0.0000, 0.4249, 0.3085],\n",
      "        [0.1627, 0.2315, 0.2109,  ..., 0.0000, 0.6236, 0.1718],\n",
      "        ...,\n",
      "        [0.0882, 0.0000, 0.1139,  ..., 0.0000, 0.6538, 0.0746],\n",
      "        [0.0377, 0.1668, 0.3094,  ..., 0.0000, 0.4660, 0.2099],\n",
      "        [0.0000, 0.1504, 0.1381,  ..., 0.0000, 0.5455, 0.1864]],\n",
      "       grad_fn=<ReluBackward0>)\n",
      "output : torch.Size([107, 10])\n",
      "Epsilon: 5\tTest Accuracy = 0 / 3 = 0.0\n",
      "arg softmax : tensor([[0.1537, 0.2210, 0.3946,  ..., 0.0000, 0.6416, 0.2248],\n",
      "        [0.1127, 0.1386, 0.3355,  ..., 0.0000, 0.4643, 0.3274],\n",
      "        [0.1665, 0.2187, 0.2360,  ..., 0.0000, 0.6633, 0.0996],\n",
      "        ...,\n",
      "        [0.3123, 0.1923, 0.1739,  ..., 0.0000, 0.7171, 0.3038],\n",
      "        [0.1172, 0.0800, 0.2053,  ..., 0.0000, 0.6355, 0.2111],\n",
      "        [0.0000, 0.3077, 0.4310,  ..., 0.0000, 0.7664, 0.3141]],\n",
      "       grad_fn=<ReluBackward0>)\n",
      "output : torch.Size([128, 10])\n",
      "arg softmax : tensor([[0.0865, 0.0918, 0.4546,  ..., 0.0000, 0.6378, 0.1896],\n",
      "        [0.0575, 0.1186, 0.1261,  ..., 0.0000, 0.6246, 0.2102],\n",
      "        [0.2023, 0.1316, 0.1306,  ..., 0.0000, 0.6758, 0.2893],\n",
      "        ...,\n",
      "        [0.3245, 0.3479, 0.1253,  ..., 0.0000, 0.6851, 0.2410],\n",
      "        [0.0422, 0.2829, 0.2243,  ..., 0.0000, 0.4233, 0.2848],\n",
      "        [0.0739, 0.3215, 0.3777,  ..., 0.0000, 0.7014, 0.3400]],\n",
      "       grad_fn=<ReluBackward0>)\n",
      "output : torch.Size([128, 10])\n",
      "arg softmax : tensor([[0.0000, 0.4790, 0.2647,  ..., 0.0000, 0.6903, 0.2098],\n",
      "        [0.3816, 0.1567, 0.5111,  ..., 0.0000, 0.7203, 0.2056],\n",
      "        [0.1399, 0.4824, 0.0649,  ..., 0.1129, 0.7782, 0.2945],\n",
      "        ...,\n",
      "        [0.5378, 0.3021, 0.3180,  ..., 0.0000, 0.8904, 0.4388],\n",
      "        [0.0000, 0.2477, 0.5224,  ..., 0.0000, 0.5016, 0.0000],\n",
      "        [0.1649, 0.4082, 0.1332,  ..., 0.0000, 0.6894, 0.2986]],\n",
      "       grad_fn=<ReluBackward0>)\n",
      "output : torch.Size([107, 10])\n",
      "Epsilon: 10\tTest Accuracy = 0 / 3 = 0.0\n",
      "arg softmax : tensor([[0.0094, 0.2272, 0.2507,  ..., 0.0315, 0.5707, 0.3738],\n",
      "        [0.2046, 0.5723, 0.1930,  ..., 0.0000, 0.5561, 0.2003],\n",
      "        [0.1405, 0.0811, 0.2173,  ..., 0.0000, 0.5127, 0.1363],\n",
      "        ...,\n",
      "        [0.1409, 0.1785, 0.3296,  ..., 0.0000, 0.6496, 0.2250],\n",
      "        [0.2651, 0.1219, 0.3104,  ..., 0.0000, 0.7959, 0.3120],\n",
      "        [0.0239, 0.1139, 0.3873,  ..., 0.0000, 0.6880, 0.1962]],\n",
      "       grad_fn=<ReluBackward0>)\n",
      "output : torch.Size([128, 10])\n",
      "arg softmax : tensor([[0.1764, 0.2167, 0.4735,  ..., 0.0000, 0.8601, 0.4704],\n",
      "        [0.3764, 0.4308, 0.1309,  ..., 0.0000, 0.6886, 0.4664],\n",
      "        [0.1394, 0.2668, 0.1971,  ..., 0.0000, 0.4110, 0.1505],\n",
      "        ...,\n",
      "        [0.1337, 0.3190, 0.3923,  ..., 0.0000, 0.6937, 0.5259],\n",
      "        [0.0000, 0.1336, 0.3920,  ..., 0.0000, 0.6666, 0.1535],\n",
      "        [0.0840, 0.2158, 0.1493,  ..., 0.0000, 0.7593, 0.0645]],\n",
      "       grad_fn=<ReluBackward0>)\n",
      "output : torch.Size([128, 10])\n",
      "arg softmax : tensor([[0.2272, 0.0507, 0.1653,  ..., 0.0000, 0.4057, 0.1866],\n",
      "        [0.4024, 0.0578, 0.3660,  ..., 0.0000, 0.6591, 0.1975],\n",
      "        [0.1988, 0.1433, 0.1749,  ..., 0.0000, 0.5267, 0.3934],\n",
      "        ...,\n",
      "        [0.2613, 0.2659, 0.3577,  ..., 0.0000, 0.5718, 0.3757],\n",
      "        [0.0000, 0.1244, 0.3243,  ..., 0.0000, 0.6212, 0.3519],\n",
      "        [0.0934, 0.2394, 0.0000,  ..., 0.0000, 0.3770, 0.1668]],\n",
      "       grad_fn=<ReluBackward0>)\n",
      "output : torch.Size([107, 10])\n",
      "Epsilon: 15\tTest Accuracy = 0 / 3 = 0.0\n"
     ]
    }
   ],
   "source": [
    "input_size = 784\n",
    "num_classes = 10\n",
    "device = torch.device(\"cpu\")\n",
    "\n",
    "# Define the model\n",
    "model = MaxoutNetworkWithSoftmax(input_size, num_classes)\n",
    "\n",
    "model = model.to(device)\n",
    "\n",
    "# Run test for each epsilon\n",
    "\n",
    "accuracies = []\n",
    "args = []\n",
    "epsilons = [-15, -10, -5, 0, 5, 10, 15]\n",
    "\n",
    "for eps in epsilons:\n",
    "    accuracy, arg = test_Maxout(model, device, test_dataloader, eps)\n",
    "    accuracies.append(accuracy)\n",
    "    args.append(arg)\n"
   ]
  },
  {
   "cell_type": "code",
   "execution_count": 9,
   "metadata": {},
   "outputs": [
    {
     "name": "stdout",
     "output_type": "stream",
     "text": [
      "[0.0, 0.0, 0.0, 0.0, 0.0, 0.0, 0.0]\n",
      "7\n",
      "torch.Size([107, 10])\n"
     ]
    }
   ],
   "source": [
    "print(accuracies)\n",
    "print(len(args))\n",
    "print(args[6].shape)"
   ]
  },
  {
   "cell_type": "code",
   "execution_count": 10,
   "metadata": {},
   "outputs": [
    {
     "name": "stdout",
     "output_type": "stream",
     "text": [
      "(10,)\n"
     ]
    }
   ],
   "source": [
    "# Calculate the average value of each column of args\n",
    "for i in range(len(args)):\n",
    "    args[i] = args[i].detach().numpy()\n",
    "    args[i] = args[i].mean(axis=0)\n",
    "\n",
    "print(args[0].shape)"
   ]
  },
  {
   "cell_type": "code",
   "execution_count": 32,
   "metadata": {},
   "outputs": [
    {
     "name": "stdout",
     "output_type": "stream",
     "text": [
      "(10,)\n",
      "7\n"
     ]
    },
    {
     "data": {
      "image/png": "[encoded data removed]",
      "text/plain": [
       "<Figure size 600x1800 with 1 Axes>"
      ]
     },
     "metadata": {},
     "output_type": "display_data"
    }
   ],
   "source": [
    "\n",
    "print(args[0].shape)\n",
    "print(len(args))\n",
    "\n",
    "# Plot the average values against epsilon\n",
    "plt.figure(figsize=(6, 18))  # Increase the height by a factor of 3\n",
    "plt.plot(epsilons, [i[:] for i in args])\n",
    "plt.xlabel('Epsilon')\n",
    "plt.ylabel('softmax output')\n",
    "\n",
    "plt.title('softmax output for each class vs Epsilon')\n",
    "plt.legend(['0', '1', '2', '3', '4', '5', '6', '7', '8', '9'])\n",
    "plt.show()\n"
   ]
  }
 ],
 "metadata": {
  "kernelspec": {
   "display_name": "Python 3",
   "language": "python",
   "name": "python3"
  },
  "language_info": {
   "codemirror_mode": {
    "name": "ipython",
    "version": 3
   },
   "file_extension": ".py",
   "mimetype": "text/x-python",
   "name": "python",
   "nbconvert_exporter": "python",
   "pygments_lexer": "ipython3",
   "version": "3.11.5"
  }
 },
 "nbformat": 4,
 "nbformat_minor": 2
}
