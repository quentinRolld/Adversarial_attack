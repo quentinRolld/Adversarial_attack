{
 "cells": [
  {
   "cell_type": "code",
   "execution_count": 1,
   "metadata": {},
   "outputs": [],
   "source": [
    "from utils import extract_from_mnist, visualize_data\n",
    "from train import prep_data,create_model,training_loop,eval_test,eval_train, plot_losses,visualize_weights_and_signs\n",
    "from adv_attack import adv_attack,create_adv_test\n",
    "from RBF_architecture import ShallowRBF, RbfNet2\n",
    "import matplotlib.pyplot as plt\n",
    "import numpy as np\n",
    "import pandas as pd\n",
    "from sklearn.datasets import fetch_openml\n",
    "from ADV_generalize import adv_attack, test_Maxout, training_loop_Maxout, eval_test_Maxout\n",
    "\n",
    "import torch\n",
    "import torch.nn as nn\n",
    "import torch.optim as optim\n",
    "import torch.nn.functional as F\n",
    "from torch.utils.data import DataLoader, TensorDataset\n",
    "from torch.autograd import Variable\n",
    "\n",
    "from sklearn.model_selection import train_test_split\n",
    "from matplotlib.colors import LinearSegmentedColormap\n",
    "from sklearn.preprocessing import LabelEncoder\n",
    "from maxout import CustomMaxout"
   ]
  },
  {
   "cell_type": "code",
   "execution_count": 2,
   "metadata": {},
   "outputs": [
    {
     "name": "stderr",
     "output_type": "stream",
     "text": [
      "/Library/Frameworks/Python.framework/Versions/3.11/lib/python3.11/site-packages/sklearn/datasets/_openml.py:1022: FutureWarning: The default value of `parser` will change from `'liac-arff'` to `'auto'` in 1.4. You can set `parser='auto'` to silence this warning. Therefore, an `ImportError` will be raised from 1.4 if the dataset is dense and pandas is not installed. Note that the pandas parser may return different data types. See the Notes Section in fetch_openml's API doc for details.\n",
      "  warn(\n",
      "/var/folders/91/hvhdt2vj68l460f4fv_t0k0h0000gn/T/ipykernel_48634/3691792284.py:8: PerformanceWarning: DataFrame is highly fragmented.  This is usually the result of calling `frame.insert` many times, which has poor performance.  Consider joining all columns at once using pd.concat(axis=1) instead. To get a de-fragmented frame, use `newframe = frame.copy()`\n",
      "  data['target'] = mnist.target\n"
     ]
    },
    {
     "name": "stdout",
     "output_type": "stream",
     "text": [
      "Filtered dataset shape: (20000, 785)\n",
      "Labels: 0        8\n",
      "1        4\n",
      "2        8\n",
      "3        7\n",
      "4        7\n",
      "        ..\n",
      "19995    8\n",
      "19996    3\n",
      "19997    1\n",
      "19998    7\n",
      "19999    6\n",
      "Name: target, Length: 20000, dtype: int64\n"
     ]
    }
   ],
   "source": [
    "# Load the MNIST dataset\n",
    "mnist = fetch_openml('mnist_784')\n",
    "\n",
    "# Convert labels to integers\n",
    "mnist.target = mnist.target.astype(int)\n",
    "\n",
    "data = pd.DataFrame(data=mnist.data, columns=mnist.feature_names)\n",
    "data['target'] = mnist.target\n",
    "\n",
    "data = data.sample(n=20000, random_state=42)\n",
    "\n",
    "# Reset the index of the filtered dataset\n",
    "data = data.reset_index(drop=True)\n",
    "\n",
    "# Print the shape of the filtered dataset\n",
    "print(\"Filtered dataset shape:\", data.shape)\n",
    "print(\"Labels:\", data['target'])"
   ]
  },
  {
   "cell_type": "code",
   "execution_count": 3,
   "metadata": {},
   "outputs": [
    {
     "name": "stdout",
     "output_type": "stream",
     "text": [
      "Unique classes in target labels: 10\n"
     ]
    }
   ],
   "source": [
    "# Assuming y is your target labels\n",
    "y = data['target'].values\n",
    "\n",
    "# Normalize the data\n",
    "data_normalized = data.iloc[:, :-1].values / 255.0\n",
    "\n",
    "# Convert data to PyTorch tensors\n",
    "X_tensor = torch.tensor(data_normalized, dtype=torch.float32)\n",
    "y_tensor = torch.tensor(y, dtype=torch.long)\n",
    "\n",
    "# Split the data into training and testing sets\n",
    "X_train_tensor, X_test_tensor, y_train_tensor, y_test_tensor = train_test_split(X_tensor, y_tensor, test_size=0.2, random_state=42)\n",
    "num_classes = len(set(y))\n",
    "print(\"Unique classes in target labels:\", num_classes)"
   ]
  },
  {
   "cell_type": "markdown",
   "metadata": {},
   "source": [
    "## On vire les classes autres que 4 pour le set de Test"
   ]
  },
  {
   "cell_type": "code",
   "execution_count": 4,
   "metadata": {},
   "outputs": [
    {
     "name": "stdout",
     "output_type": "stream",
     "text": [
      "torch.Size([363, 784])\n",
      "torch.Size([363])\n",
      "torch.Size([784])\n",
      "torch.Size([1])\n"
     ]
    },
    {
     "name": "stderr",
     "output_type": "stream",
     "text": [
      "/var/folders/91/hvhdt2vj68l460f4fv_t0k0h0000gn/T/ipykernel_48634/1216468907.py:3: UserWarning: To copy construct from a tensor, it is recommended to use sourceTensor.clone().detach() or sourceTensor.clone().detach().requires_grad_(True), rather than torch.tensor(sourceTensor).\n",
      "  X_test_tensor = torch.tensor(np.delete(X_test_tensor, List_arg_not4, axis=0), dtype=torch.float32)\n",
      "/var/folders/91/hvhdt2vj68l460f4fv_t0k0h0000gn/T/ipykernel_48634/1216468907.py:4: UserWarning: To copy construct from a tensor, it is recommended to use sourceTensor.clone().detach() or sourceTensor.clone().detach().requires_grad_(True), rather than torch.tensor(sourceTensor).\n",
      "  y_test_tensor = torch.tensor(np.delete(y_test_tensor, List_arg_not4), dtype=torch.long)\n"
     ]
    }
   ],
   "source": [
    "List_arg_not4 = [i for i in range(y_test_tensor.shape[0]) if y_test_tensor[i] != 4]\n",
    "\n",
    "X_test_tensor = torch.tensor(np.delete(X_test_tensor, List_arg_not4, axis=0), dtype=torch.float32)\n",
    "y_test_tensor = torch.tensor(np.delete(y_test_tensor, List_arg_not4), dtype=torch.long)\n",
    "print(X_test_tensor.shape)\n",
    "print(y_test_tensor.shape)\n",
    "anna_X_test_tensor = X_test_tensor[0,:]\n",
    "anna_y_test_tensor = torch.tensor([4], dtype=torch.long)\n",
    "\n",
    "print(anna_X_test_tensor.shape)\n",
    "print(anna_y_test_tensor.shape)"
   ]
  },
  {
   "cell_type": "code",
   "execution_count": 5,
   "metadata": {},
   "outputs": [],
   "source": [
    "# Hyperparameters\n",
    "\n",
    "batch_size = 128\n",
    "n_epochs = 100\n",
    "lr = 0.001"
   ]
  },
  {
   "cell_type": "code",
   "execution_count": 6,
   "metadata": {},
   "outputs": [],
   "source": [
    "training_dataloader = DataLoader(X_train_tensor, batch_size=batch_size, shuffle=True)\n",
    "test_dataloader = DataLoader(X_test_tensor, batch_size=batch_size, shuffle=True)"
   ]
  },
  {
   "cell_type": "code",
   "execution_count": 8,
   "metadata": {},
   "outputs": [],
   "source": [
    "# Define the Maxout layer\n",
    "# Maxout Layer\n",
    "class MaxoutLayer(nn.Module):\n",
    "    def __init__(self, input_size, output_size, num_pieces=2):\n",
    "        super(MaxoutLayer, self).__init__()\n",
    "        self.fc = nn.Linear(input_size, output_size * num_pieces)\n",
    "        self.num_pieces = num_pieces\n",
    "\n",
    "    def forward(self, x):\n",
    "        x = self.fc(x)\n",
    "        x, _ = x.view(x.size(0), -1, self.num_pieces).max(-1)\n",
    "        return x\n",
    "\n",
    "# Maxout Network with Softmax Layer\n",
    "class MaxoutNetworkWithSoftmax(nn.Module):\n",
    "    def __init__(self, input_size, num_classes):\n",
    "        super(MaxoutNetworkWithSoftmax, self).__init__()\n",
    "        self.layer1 = MaxoutLayer(input_size, 512)\n",
    "        self.layer2 = MaxoutLayer(512, 256)\n",
    "        self.softmax = nn.Softmax(dim=1)\n",
    "        self.output_layer = nn.Linear(256, num_classes)\n",
    "\n",
    "    def forward(self, x):\n",
    "        x = x.view(x.size(0), -1)\n",
    "        x = torch.relu(self.layer1(x))\n",
    "        x_arg = torch.relu(self.layer2(x))\n",
    "        x = self.softmax(x_arg)\n",
    "        logits = self.output_layer(x)\n",
    "        return logits, x_arg"
   ]
  },
  {
   "cell_type": "code",
   "execution_count": 9,
   "metadata": {},
   "outputs": [],
   "source": [
    "# Fonction de perte standard\n",
    "def loss_fn(model, x, y):\n",
    "    output = model(x)\n",
    "    return F.cross_entropy(output, y)\n",
    "\n",
    "# Fonction de perte adversariale\n",
    "def adversarial_loss_fn(model, x, y, epsilon, alpha):\n",
    "    # Calcul de la perte standard\n",
    "    standard_loss = loss_fn(model, x, y)\n",
    "    \n",
    "    # Génération de l'exemple adverse\n",
    "    x_adv = x + epsilon * torch.sign(torch.autograd.grad(standard_loss, x, create_graph=True)[0])\n",
    "    \n",
    "    # Calcul de la perte sur l'exemple adverse\n",
    "    adversarial_loss = loss_fn(model, x_adv, y)\n",
    "    \n",
    "    # Combinaison des deux pertes\n",
    "    return alpha * standard_loss + (1 - alpha) * adversarial_loss"
   ]
  },
  {
   "cell_type": "code",
   "execution_count": 10,
   "metadata": {},
   "outputs": [
    {
     "name": "stdout",
     "output_type": "stream",
     "text": [
      "Epoch [1/100], Loss: 2.0458\n",
      "Epoch [2/100], Loss: 1.8439\n",
      "Epoch [3/100], Loss: 1.6555\n",
      "Epoch [4/100], Loss: 1.5171\n",
      "Epoch [5/100], Loss: 1.3895\n",
      "Epoch [6/100], Loss: 1.2300\n",
      "Epoch [7/100], Loss: 1.1323\n",
      "Epoch [8/100], Loss: 1.0604\n",
      "Epoch [9/100], Loss: 0.9729\n",
      "Epoch [10/100], Loss: 0.8865\n",
      "Epoch [11/100], Loss: 0.8051\n",
      "Epoch [12/100], Loss: 0.8179\n",
      "Epoch [13/100], Loss: 0.7306\n",
      "Epoch [14/100], Loss: 0.6989\n",
      "Epoch [15/100], Loss: 0.7272\n",
      "Epoch [16/100], Loss: 0.7439\n",
      "Epoch [17/100], Loss: 0.5960\n",
      "Epoch [18/100], Loss: 0.6398\n",
      "Epoch [19/100], Loss: 0.5846\n",
      "Epoch [20/100], Loss: 0.5489\n",
      "Epoch [21/100], Loss: 0.5997\n",
      "Epoch [22/100], Loss: 0.5712\n",
      "Epoch [23/100], Loss: 0.5282\n",
      "Epoch [24/100], Loss: 0.5304\n",
      "Epoch [25/100], Loss: 0.6182\n",
      "Epoch [26/100], Loss: 0.5456\n",
      "Epoch [27/100], Loss: 0.4979\n",
      "Epoch [28/100], Loss: 0.5530\n",
      "Epoch [29/100], Loss: 0.5013\n",
      "Epoch [30/100], Loss: 0.4894\n",
      "Epoch [31/100], Loss: 0.4842\n",
      "Epoch [32/100], Loss: 0.4800\n",
      "Epoch [33/100], Loss: 0.4804\n",
      "Epoch [34/100], Loss: 0.4837\n",
      "Epoch [35/100], Loss: 0.4591\n",
      "Epoch [36/100], Loss: 0.4664\n",
      "Epoch [37/100], Loss: 0.5341\n",
      "Epoch [38/100], Loss: 0.4164\n",
      "Epoch [39/100], Loss: 0.4536\n",
      "Epoch [40/100], Loss: 0.4382\n",
      "Epoch [41/100], Loss: 0.3920\n",
      "Epoch [42/100], Loss: 0.3972\n",
      "Epoch [43/100], Loss: 0.4881\n",
      "Epoch [44/100], Loss: 0.3993\n",
      "Epoch [45/100], Loss: 0.4743\n",
      "Epoch [46/100], Loss: 0.3950\n",
      "Epoch [47/100], Loss: 0.4271\n",
      "Epoch [48/100], Loss: 0.4224\n",
      "Epoch [49/100], Loss: 0.4593\n",
      "Epoch [50/100], Loss: 0.4418\n",
      "Epoch [51/100], Loss: 0.4409\n",
      "Epoch [52/100], Loss: 0.3746\n",
      "Epoch [53/100], Loss: 0.4259\n",
      "Epoch [54/100], Loss: 0.4545\n",
      "Epoch [55/100], Loss: 0.3811\n",
      "Epoch [56/100], Loss: 0.4257\n",
      "Epoch [57/100], Loss: 0.3768\n",
      "Epoch [58/100], Loss: 0.4440\n",
      "Epoch [59/100], Loss: 0.4632\n",
      "Epoch [60/100], Loss: 0.4196\n",
      "Epoch [61/100], Loss: 0.4269\n",
      "Epoch [62/100], Loss: 0.5029\n",
      "Epoch [63/100], Loss: 0.4444\n",
      "Epoch [64/100], Loss: 0.4336\n",
      "Epoch [65/100], Loss: 0.4179\n",
      "Epoch [66/100], Loss: 0.4487\n",
      "Epoch [67/100], Loss: 0.4450\n",
      "Epoch [68/100], Loss: 0.4334\n",
      "Epoch [69/100], Loss: 0.3911\n",
      "Epoch [70/100], Loss: 0.4245\n",
      "Epoch [71/100], Loss: 0.4630\n",
      "Epoch [72/100], Loss: 0.4559\n",
      "Epoch [73/100], Loss: 0.4783\n",
      "Epoch [74/100], Loss: 0.4555\n",
      "Epoch [75/100], Loss: 0.4048\n",
      "Epoch [76/100], Loss: 0.4169\n",
      "Epoch [77/100], Loss: 0.3532\n",
      "Epoch [78/100], Loss: 0.3749\n",
      "Epoch [79/100], Loss: 0.3427\n",
      "Epoch [80/100], Loss: 0.3381\n",
      "Epoch [81/100], Loss: 0.3110\n",
      "Epoch [82/100], Loss: 0.2975\n",
      "Epoch [83/100], Loss: 0.2732\n",
      "Epoch [84/100], Loss: 0.2996\n",
      "Epoch [85/100], Loss: 0.3756\n",
      "Epoch [86/100], Loss: 0.2679\n",
      "Epoch [87/100], Loss: 0.2856\n",
      "Epoch [88/100], Loss: 0.2560\n",
      "Epoch [89/100], Loss: 0.2380\n",
      "Epoch [90/100], Loss: 0.1576\n",
      "Epoch [91/100], Loss: 0.1761\n",
      "Epoch [92/100], Loss: 0.2664\n",
      "Epoch [93/100], Loss: 0.1965\n",
      "Epoch [94/100], Loss: 0.1387\n",
      "Epoch [95/100], Loss: 0.1064\n",
      "Epoch [96/100], Loss: 0.0860\n",
      "Epoch [97/100], Loss: 0.0705\n",
      "Epoch [98/100], Loss: 0.0482\n",
      "Epoch [99/100], Loss: 0.0478\n",
      "Epoch [100/100], Loss: 0.0420\n"
     ]
    }
   ],
   "source": [
    "input_size = 784\n",
    "num_classes = 10\n",
    "device = torch.device(\"cpu\")\n",
    "\n",
    "# Define the model\n",
    "model = MaxoutNetworkWithSoftmax(input_size, num_classes)\n",
    "\n",
    "model = model.to(device)\n",
    "\n",
    "optimizer = optim.Adam(model.parameters(), lr=0.001)\n",
    "\n",
    "# Define the loss function\n",
    "criterion = nn.CrossEntropyLoss()\n",
    "\n",
    "training_loss ,model_trained = training_loop_Maxout(optimizer, model, criterion, X_train_tensor, y_train_tensor,num_epochs=n_epochs,batch_size=batch_size)"
   ]
  },
  {
   "cell_type": "code",
   "execution_count": 11,
   "metadata": {},
   "outputs": [
    {
     "data": {
      "image/png": "[encoded data removed]",
      "text/plain": [
       "<Figure size 640x480 with 1 Axes>"
      ]
     },
     "metadata": {},
     "output_type": "display_data"
    }
   ],
   "source": [
    "plot_losses(training_loss)"
   ]
  },
  {
   "cell_type": "code",
   "execution_count": 12,
   "metadata": {},
   "outputs": [
    {
     "name": "stdout",
     "output_type": "stream",
     "text": [
      "Accuracy: 94.77%\n",
      "Mean Confidence for All Examples: 0.9857\n",
      "Mean Confidence for Incorrect Predictions: 0.8641\n"
     ]
    }
   ],
   "source": [
    "eval_test_Maxout(X_test_tensor,y_test_tensor,model)"
   ]
  },
  {
   "cell_type": "code",
   "execution_count": null,
   "metadata": {},
   "outputs": [],
   "source": [
    "test(model2, device, test_loader, 1)"
   ]
  }
 ],
 "metadata": {
  "kernelspec": {
   "display_name": "Python 3",
   "language": "python",
   "name": "python3"
  },
  "language_info": {
   "codemirror_mode": {
    "name": "ipython",
    "version": 3
   },
   "file_extension": ".py",
   "mimetype": "text/x-python",
   "name": "python",
   "nbconvert_exporter": "python",
   "pygments_lexer": "ipython3",
   "version": "3.11.5"
  }
 },
 "nbformat": 4,
 "nbformat_minor": 2
}
